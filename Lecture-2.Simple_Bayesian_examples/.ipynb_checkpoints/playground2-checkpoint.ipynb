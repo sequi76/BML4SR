{
 "cells": [
  {
   "cell_type": "code",
   "execution_count": 4,
   "id": "44860558-4724-4359-9390-1d17efc32df7",
   "metadata": {},
   "outputs": [],
   "source": [
    "import stan\n",
    "import pandas as pd\n",
    "import numpy as np\n",
    "import scipy.stats as stats \n",
    "import matplotlib\n",
    "import arviz as az\n",
    "import matplotlib.pyplot as plt\n",
    "#matplotlib.rcParams['figure.figsize']=5,5\n",
    "matplotlib.rcParams['figure.dpi']=100\n",
    "#plt.style.use('ggplot')\n",
    "from IPython.display import Image"
   ]
  },
  {
   "cell_type": "code",
   "execution_count": 113,
   "id": "92dc177f-1c1b-4d99-91cf-74ec192c2523",
   "metadata": {},
   "outputs": [],
   "source": [
    "# this is a work around found at \n",
    "# https://stackoverflow.com/questions/56154176/runtimeerror-asyncio-run-cannot-be-called-from-a-running-event-loop-in-spyd\n",
    "import nest_asyncio\n",
    "nest_asyncio.apply()"
   ]
  }
 ],
 "metadata": {
  "kernelspec": {
   "display_name": "Python 3 (ipykernel)",
   "language": "python",
   "name": "python3"
  },
  "language_info": {
   "codemirror_mode": {
    "name": "ipython",
    "version": 3
   },
   "file_extension": ".py",
   "mimetype": "text/x-python",
   "name": "python",
   "nbconvert_exporter": "python",
   "pygments_lexer": "ipython3",
   "version": "3.10.14"
  }
 },
 "nbformat": 4,
 "nbformat_minor": 5
}
